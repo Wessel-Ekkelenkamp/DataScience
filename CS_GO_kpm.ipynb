{
 "cells": [
  {
   "cell_type": "code",
   "execution_count": 47,
   "metadata": {},
   "outputs": [],
   "source": [
    "#imports\n",
    "from awpy.parser import DemoParser\n",
    "import pandas as pd\n",
    "import numpy as np\n",
    "import matplotlib.pyplot as plt\n",
    "import json\n",
    "import os\n",
    "import scipy.stats as st\n",
    "import seaborn as sns\n",
    "import math"
   ]
  },
  {
   "cell_type": "code",
   "execution_count": 48,
   "metadata": {},
   "outputs": [],
   "source": [
    "dir_path = r\"C:\\Users\\Wessel\\Documents\\DataScienceDemos\\demos\"\n",
    "out_path = r\"C:\\Users\\Wessel\\Documents\\DataScienceDemos\\JSON\""
   ]
  },
  {
   "cell_type": "code",
   "execution_count": 49,
   "metadata": {},
   "outputs": [],
   "source": [
    "# parsing data\n",
    "# for dem in os.listdir(dir_path):\n",
    "#     demo_parser = DemoParser(demofile = dir_path+\"/\"+dem, demo_id = str(dem), parse_rate=128, outpath = out_path ).parse()"
   ]
  },
  {
   "cell_type": "code",
   "execution_count": 50,
   "metadata": {},
   "outputs": [],
   "source": [
    "#importing data\n",
    "games = []\n",
    "for file in os.listdir(out_path):\n",
    "    game = json.load(open(out_path+\"/\"+file))\n",
    "    games.append(game) "
   ]
  },
  {
   "cell_type": "code",
   "execution_count": 51,
   "metadata": {},
   "outputs": [
    {
     "name": "stdout",
     "output_type": "stream",
     "text": [
      "['de_mirage', 'de_inferno', 'de_overpass', 'de_ancient', 'de_nuke', 'de_vertigo']\n"
     ]
    }
   ],
   "source": [
    "#generate list of unique maps in pool\n",
    "maps = []\n",
    "for game in games:\n",
    "    if game['mapName'] not in maps:\n",
    "        maps.append(game['mapName'])\n",
    "print(maps)"
   ]
  },
  {
   "cell_type": "code",
   "execution_count": 52,
   "metadata": {},
   "outputs": [],
   "source": [
    "#init dict's of maps\n",
    "map_dict_mouz = {}\n",
    "map_dict_enemy = {}\n",
    "avg_kills_mouz = {}\n",
    "avg_kills_enemy = {}\n",
    "stdef_map_dict_mouz = {}\n",
    "stdef_map_dict_enemy = {}\n",
    "conf_rate_kills = {}\n",
    "win_dict = {}\n",
    "loss_dict = {}\n",
    "kill_dif = {}\n",
    "win_dif = {}\n",
    "stdef_loss_dict = {}\n",
    "stdef_win_dict = {}\n",
    "conf_rate_wins = {}\n",
    "i=0\n",
    "for k in maps:\n",
    "    map_dict_mouz[maps[i]] = []\n",
    "    map_dict_enemy[maps[i]] = []\n",
    "    avg_kills_mouz[maps[i]] = []\n",
    "    avg_kills_enemy[maps[i]] = []\n",
    "    stdef_map_dict_mouz[maps[i]] = []\n",
    "    stdef_map_dict_enemy[maps[i]] = []\n",
    "    conf_rate_kills[maps[i]] = []\n",
    "    win_dict[maps[i]] = []\n",
    "    loss_dict[maps[i]] = []\n",
    "    kill_dif[maps[i]] = []\n",
    "    win_dif[maps[i]] = []\n",
    "    stdef_loss_dict[maps[i]] = []\n",
    "    stdef_win_dict[maps[i]] = []\n",
    "    conf_rate_wins[maps[i]] = []\n",
    "    i += 1"
   ]
  },
  {
   "cell_type": "code",
   "execution_count": 53,
   "metadata": {},
   "outputs": [
    {
     "name": "stdout",
     "output_type": "stream",
     "text": [
      "{'de_mirage': [5, 5, 1, 4, 5, 5, 5, 3, 4, 4, 1, 5, 2, 2, 5, 1, 2, 0, 4, 2, 5, 2, 4, 5, 5, 5, 2, 1, 1, 5, 1, 3, 5, 5, 5, 0, 5, 2, 0, 0, 4, 0, 0, 5, 3, 4, 3, 1, 1, 3, 0, 4, 3, 2, 5, 3, 0, 2, 4, 5, 4, 2, 4, 5, 5, 5, 5, 5, 5, 5, 3, 4, 5, 5, 1, 0, 0, 3, 3, 1, 2, 5, 4, 5, 1, 5, 3, 5, 5, 2, 3, 5, 4, 5, 2, 3, 2, 1, 1, 0, 2, 3, 3, 5, 4, 1, 5, 5, 4, 3], 'de_inferno': [4, 3, 4, 2, 1, 2, 1, 1, 1, 5, 2, 4, 4, 1, 2, 3, 0, 1, 4, 4, 3, 5, 5, 4, 4, 1, 3, 5, 5, 5, 3, 2, 1, 3, 4, 4, 2, 1, 0, 2, 3, 5, 5, 5, 1, 3, 1, 2, 3, 5, 2, 1, 5, 3, 5, 5, 5, 5, 4, 4, 3, 4, 5, 5, 4, 3, 5, 5, 5, 5, 5, 5, 5, 3, 3, 1, 5, 5, 5, 5, 5, 2, 3, 5, 1, 5, 2, 5, 3, 3, 3, 5, 1, 1, 0, 2, 3, 1, 1, 2, 3, 5, 5, 2, 1, 0, 2, 5, 0, 1, 0, 2, 1, 5, 2, 2, 2, 5, 3, 3, 0, 3, 1, 0, 2, 0, 0, 2, 5, 3, 3, 3, 2, 1, 2, 1, 5, 4, 0, 4, 3], 'de_overpass': [5, 5, 5, 2, 5, 5, 2, 4, 5, 1, 1, 1, 5, 5, 3, 5, 4, 5, 5, 2, 2, 3, 2, 2, 5, 1, 3, 2, 5, 0, 1, 1, 5, 4, 4, 5, 5, 3, 5, 5, 2, 1, 5, 5, 1, 0, 1, 2, 2, 2, 3, 0, 2, 2, 3, 5, 5, 0, 4, 2, 0, 3, 0, 5, 2, 1, 4, 3, 5, 5, 2, 1, 4, 2, 0, 2, 3, 4, 2, 4, 4, 5, 3, 3, 5], 'de_ancient': [1, 1, 1, 0, 2, 4, 4, 4, 4, 5, 6, 5, 5, 1, 2, 2, 5, 5, 5, 5, 5, 4, 5, 5, 5, 4, 4, 5, 1, 4, 2, 4, 0, 1, 1, 2, 4, 5, 4, 5, 5, 5, 5, 5, 5, 5, 5, 5, 5, 5, 4, 4, 2, 1, 5, 5, 4, 1, 2, 5, 4, 5, 5, 5, 5, 2, 2, 4, 4, 3, 5, 4, 5, 5, 3, 0, 3, 0, 1, 1, 1, 2, 5, 2, 4, 1, 4, 5, 2, 3, 1, 5, 3, 2, 0, 5, 4], 'de_nuke': [4, 0, 1, 5, 1, 1, 5, 5, 4, 0, 1, 2, 5, 4, 2, 5, 5, 5, 1, 1, 5, 4, 3, 2], 'de_vertigo': [5, 5, 4, 5, 5, 5, 1, 5, 5, 5, 0, 5, 1, 1, 4, 5, 5, 2, 2, 1, 5, 5, 4, 5]}\n"
     ]
    }
   ],
   "source": [
    "#fill dict's wits kills per round\n",
    "for game in games:\n",
    "    for gameround in game['gameRounds']:\n",
    "        number_of_kills_mouz = 0\n",
    "        number_of_kills_enemy = 0\n",
    "        for kill in gameround['kills']:\n",
    "            if kill['attackerTeam'] == \"MOUZ\":\n",
    "                number_of_kills_mouz += 1\n",
    "            if kill['attackerTeam'] != \"MOUZ\":\n",
    "                number_of_kills_enemy += 1 \n",
    "        map_dict_mouz[game['mapName']].append(number_of_kills_mouz) \n",
    "        map_dict_enemy[game['mapName']].append(number_of_kills_enemy)\n",
    "\n",
    "print(map_dict_mouz)"
   ]
  },
  {
   "cell_type": "code",
   "execution_count": 58,
   "metadata": {},
   "outputs": [
    {
     "data": {
      "image/png": "[encoded data removed]",
      "text/plain": [
       "<Figure size 640x480 with 1 Axes>"
      ]
     },
     "metadata": {},
     "output_type": "display_data"
    }
   ],
   "source": [
    "#get SD and n\n",
    "i = 0\n",
    "for k in map_dict_mouz:\n",
    "    stdef_map_dict_mouz[maps[i]].append(np.mean(map_dict_mouz[maps[i]]))\n",
    "    stdef_map_dict_mouz[maps[i]].append(np.std(map_dict_mouz[maps[i]]))\n",
    "    stdef_map_dict_mouz[maps[i]].append(len(map_dict_mouz[maps[i]]))\n",
    "    stdef_map_dict_enemy[maps[i]].append(np.mean(map_dict_enemy[maps[i]]))\n",
    "    stdef_map_dict_enemy[maps[i]].append(np.std(map_dict_enemy[maps[i]]))\n",
    "    stdef_map_dict_enemy[maps[i]].append(len(map_dict_enemy[maps[i]]))\n",
    "    i+=1\n",
    "\n",
    "#get SE(diff)\n",
    "i = 0\n",
    "for k in stdef_map_dict_mouz:\n",
    "    conf_rate_kills[maps[i]].append(math.sqrt((pow(stdef_map_dict_mouz.get(maps[i])[1], 2)/ stdef_map_dict_mouz.get(maps[i])[2]) + (pow(stdef_map_dict_enemy.get(maps[i])[1], 2)/ stdef_map_dict_enemy.get(maps[i])[2])))\n",
    "    conf_rate_kills[maps[i]].append(stdef_map_dict_mouz.get(maps[i])[0]-stdef_map_dict_enemy.get(maps[i])[0])\n",
    "    conf_rate_kills[maps[i]].append(conf_rate_kills.get(maps[i])[1]-1.96*conf_rate_kills.get(maps[i])[0])\n",
    "    conf_rate_kills[maps[i]].append(conf_rate_kills.get(maps[i])[1]+1.96*conf_rate_kills.get(maps[i])[0])\n",
    "    i += 1\n",
    "conf_rate_kills\n",
    "\n",
    "#calculate 95% conf \n",
    "i = 0\n",
    "conf_low = []\n",
    "conf_high = []\n",
    "for k in conf_rate_kills:\n",
    "    conf_high.append(conf_rate_kills[maps[i]][3])\n",
    "    conf_low.append(conf_rate_kills[maps[i]][2])\n",
    "    i += 1\n",
    "\n",
    "#make dict containing diff in kills and the conf rate to plot\n",
    "i = 0\n",
    "for k in stdef_map_dict_mouz:\n",
    "    kill_dif[maps[i]].append(stdef_map_dict_mouz[k][0]-stdef_map_dict_enemy[k][0])\n",
    "    kill_dif[maps[i]].append(conf_low[i]) \n",
    "    kill_dif[maps[i]].append(conf_high[i]) \n",
    "    i += 1\n",
    "#sort on highest to lowest dif in kills\n",
    "kill_dif = dict(sorted(kill_dif.items(), key=lambda x:x[1], reverse=True))\n",
    "\n",
    "keys = list(kill_dif.keys())\n",
    "values = list(kill_dif.values())\n",
    "low = []\n",
    "high = []\n",
    "dif = []\n",
    "\n",
    "i = 0\n",
    "for k in values:\n",
    "    dif.append(values[i][0]) \n",
    "    i+=1\n",
    "i = 0\n",
    "for k in values:\n",
    "    low.append(values[i][1])\n",
    "    i+= 1\n",
    "i = 0\n",
    "for k in values:\n",
    "    high.append(values[i][2])\n",
    "    i+= 1\n",
    "\n",
    "#plot barplot \n",
    "ax = sns.barplot(x=keys, y=dif, palette=\"blend:#7AB,#EDA\")\n",
    "ax.set(xlabel='Map Name', ylabel='Kill difference', title='Kill difference per map')\n",
    "ax\n",
    "#plot errorbars\n",
    "i = 0\n",
    "for k in range(0, len(kill_dif)):\n",
    "    plt.plot([i,i], [low[i], high[i]], color = 'grey')\n",
    "    i += 1"
   ]
  }
 ],
 "metadata": {
  "kernelspec": {
   "display_name": "Python 3",
   "language": "python",
   "name": "python3"
  },
  "language_info": {
   "codemirror_mode": {
    "name": "ipython",
    "version": 3
   },
   "file_extension": ".py",
   "mimetype": "text/x-python",
   "name": "python",
   "nbconvert_exporter": "python",
   "pygments_lexer": "ipython3",
   "version": "3.11.2"
  },
  "orig_nbformat": 4
 },
 "nbformat": 4,
 "nbformat_minor": 2
}
