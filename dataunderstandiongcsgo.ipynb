{
 "cells": [
  {
   "cell_type": "code",
   "execution_count": 86,
   "metadata": {},
   "outputs": [],
   "source": [
    "#IMPORTS\n",
    "import pandas as pd \n",
    "from awpy import DemoParser\n",
    "from awpy.analytics.stats import player_stats\n",
    "import json\n",
    "import matplotlib.pyplot as plt\n",
    "from awpy.visualization.plot import plot_map\n",
    "from awpy.visualization.plot import plot_round\n",
    "from IPython.display import Image"
   ]
  },
  {
   "cell_type": "code",
   "execution_count": 1,
   "metadata": {},
   "outputs": [
    {
     "ename": "NameError",
     "evalue": "name 'DemoParser' is not defined",
     "output_type": "error",
     "traceback": [
      "\u001b[1;31m---------------------------------------------------------------------------\u001b[0m",
      "\u001b[1;31mNameError\u001b[0m                                 Traceback (most recent call last)",
      "Cell \u001b[1;32mIn[1], line 2\u001b[0m\n\u001b[0;32m      1\u001b[0m \u001b[39m#PARSE DEM FILES\u001b[39;00m\n\u001b[1;32m----> 2\u001b[0m out_mou_m1_anc \u001b[39m=\u001b[39m DemoParser(demofile \u001b[39m=\u001b[39m \u001b[39mr\u001b[39m\u001b[39m\"\u001b[39m\u001b[39mC:\u001b[39m\u001b[39m\\\u001b[39m\u001b[39mUsers\u001b[39m\u001b[39m\\\u001b[39m\u001b[39mWessel\u001b[39m\u001b[39m\\\u001b[39m\u001b[39mDocuments\u001b[39m\u001b[39m\\\u001b[39m\u001b[39mDataScienceDemos\u001b[39m\u001b[39m\\\u001b[39m\u001b[39moutsiders-vs-mouz-m1-ancient.dem\u001b[39m\u001b[39m\"\u001b[39m, demo_id \u001b[39m=\u001b[39m \u001b[39m\"\u001b[39m\u001b[39mout_mou_m1_anc\u001b[39m\u001b[39m\"\u001b[39m, parse_frames\u001b[39m=\u001b[39m\u001b[39m128\u001b[39m)\u001b[39m.\u001b[39mparse()\n\u001b[0;32m      3\u001b[0m \u001b[39m#out_mou_m2_ovp = DemoParser(demofile = r\"C:\\Users\\Wessel\\Documents\\DataScienceDemos\\outsiders-vs-mouz-m2-overpass.dem\", demo_id = \"out_mou_m2_ovp\", parse_frames=128).parse()\u001b[39;00m\n\u001b[0;32m      4\u001b[0m \u001b[39m#out_mou_m3_inf = DemoParser(demofile = r\"C:\\Users\\Wessel\\Documents\\DataScienceDemos\\outsiders-vs-mouz-m3-inferno.dem\", demo_id = \"out_mou_m3_inf\", parse_frames=128).parse()\u001b[39;00m\n",
      "\u001b[1;31mNameError\u001b[0m: name 'DemoParser' is not defined"
     ]
    }
   ],
   "source": [
    "#PARSE DEM FILES\n",
    "out_mou_m1_anc = DemoParser(demofile = r\"C:\\Users\\Wessel\\Documents\\DataScienceDemos\\outsiders-vs-mouz-m1-ancient.dem\", demo_id = \"out_mou_m1_anc\", parse_frames=128).parse()\n",
    "#out_mou_m2_ovp = DemoParser(demofile = r\"C:\\Users\\Wessel\\Documents\\DataScienceDemos\\outsiders-vs-mouz-m2-overpass.dem\", demo_id = \"out_mou_m2_ovp\", parse_frames=128).parse()\n",
    "#out_mou_m3_inf = DemoParser(demofile = r\"C:\\Users\\Wessel\\Documents\\DataScienceDemos\\outsiders-vs-mouz-m3-inferno.dem\", demo_id = \"out_mou_m3_inf\", parse_frames=128).parse()"
   ]
  },
  {
   "cell_type": "code",
   "execution_count": 91,
   "metadata": {},
   "outputs": [
    {
     "name": "stderr",
     "output_type": "stream",
     "text": [
      "85it [00:30,  2.77it/s]\n"
     ]
    }
   ],
   "source": [
    "\n",
    "plot_round(\"ancient_round_1.gif\", out_mou_m1_anc[\"gameRounds\"][0][\"frames\"], map_name=out_mou_m1_anc[\"mapName\"], map_type=\"simpleradar\", dark=False)\n",
    "plt.show()"
   ]
  },
  {
   "cell_type": "code",
   "execution_count": 99,
   "metadata": {},
   "outputs": [
    {
     "data": {
      "text/plain": [
       "'de_ancient'"
      ]
     },
     "execution_count": 99,
     "metadata": {},
     "output_type": "execute_result"
    }
   ],
   "source": [
    "out_mou_m1_anc['mapName']"
   ]
  },
  {
   "cell_type": "code",
   "execution_count": 100,
   "metadata": {},
   "outputs": [
    {
     "data": {
      "text/plain": [
       "'MOUZ'"
      ]
     },
     "execution_count": 100,
     "metadata": {},
     "output_type": "execute_result"
    }
   ],
   "source": [
    "out_mou_m1_anc['gameRounds'][0]['winningTeam']"
   ]
  },
  {
   "cell_type": "code",
   "execution_count": 98,
   "metadata": {},
   "outputs": [
    {
     "data": {
      "text/plain": [
       "'MOUZ'"
      ]
     },
     "execution_count": 98,
     "metadata": {},
     "output_type": "execute_result"
    }
   ],
   "source": [
    "out_mou_m1_anc['gameRounds'][0]['tSide']['teamName']"
   ]
  },
  {
   "cell_type": "code",
   "execution_count": 145,
   "metadata": {},
   "outputs": [
    {
     "data": {
      "text/plain": [
       "'01:41'"
      ]
     },
     "execution_count": 145,
     "metadata": {},
     "output_type": "execute_result"
    }
   ],
   "source": [
    "'{0:02.0f}:{1:02.0f}'.format(*divmod((out_mou_m1_anc['gameRounds'][0]['endTick'] - out_mou_m1_anc['gameRounds'][0]['startTick'])/out_mou_m1_anc['tickRate'], 60))\n"
   ]
  },
  {
   "cell_type": "code",
   "execution_count": 150,
   "metadata": {},
   "outputs": [
    {
     "name": "stdout",
     "output_type": "stream",
     "text": [
      "MOUZ xertioN, MOUZ frozen, Outsiders n0rb3r7, MOUZ xertioN, Outsiders FL1T, MOUZ dexter, "
     ]
    }
   ],
   "source": [
    "j = 0\n",
    "for k in out_mou_m1_anc['gameRounds'][0]['kills']:\n",
    "    print(out_mou_m1_anc['gameRounds'][0]['kills'][j]['attackerTeam'] + \" \"+ out_mou_m1_anc['gameRounds'][0]['kills'][j]['attackerName'], end=\", \")\n",
    "    j += 1"
   ]
  },
  {
   "cell_type": "code",
   "execution_count": 193,
   "metadata": {},
   "outputs": [
    {
     "name": "stdout",
     "output_type": "stream",
     "text": [
      "round 1: MOUZ MOUZ Outsiders MOUZ Outsiders MOUZ \n",
      "round 2: MOUZ MOUZ MOUZ MOUZ MOUZ \n",
      "round 3: Outsiders MOUZ Outsiders MOUZ MOUZ Outsiders Outsiders MOUZ MOUZ \n",
      "round 4: MOUZ Outsiders MOUZ Outsiders MOUZ \n",
      "round 5: Outsiders Outsiders Outsiders Outsiders \n",
      "round 6: MOUZ Outsiders MOUZ Outsiders Outsiders Outsiders MOUZ \n",
      "round 7: Outsiders Outsiders Outsiders Outsiders Outsiders \n",
      "round 8: Outsiders Outsiders MOUZ Outsiders Outsiders Outsiders \n",
      "round 9: Outsiders Outsiders Outsiders MOUZ Outsiders Outsiders \n",
      "round 10: Outsiders MOUZ Outsiders Outsiders Outsiders Outsiders \n",
      "round 11: Outsiders MOUZ Outsiders MOUZ Outsiders Outsiders \n",
      "round 12: MOUZ Outsiders MOUZ Outsiders Outsiders MOUZ MOUZ MOUZ \n",
      "round 13: Outsiders MOUZ Outsiders Outsiders MOUZ Outsiders Outsiders \n",
      "round 14: MOUZ Outsiders MOUZ Outsiders MOUZ Outsiders Outsiders MOUZ Outsiders \n",
      "round 15: Outsiders MOUZ Outsiders Outsiders Outsiders Outsiders \n",
      "round 16: Outsiders Outsiders Outsiders Outsiders MOUZ MOUZ Outsiders MOUZ MOUZ \n",
      "round 17: MOUZ MOUZ Outsiders Outsiders MOUZ Outsiders MOUZ MOUZ \n",
      "round 18: MOUZ MOUZ \n",
      "round 19: Outsiders MOUZ MOUZ Outsiders Outsiders MOUZ Outsiders Outsiders \n",
      "round 20: Outsiders Outsiders MOUZ \n",
      "round 21: MOUZ Outsiders MOUZ Outsiders MOUZ Outsiders MOUZ MOUZ \n",
      "round 22: MOUZ MOUZ Outsiders Outsiders Outsiders MOUZ Outsiders Outsiders \n",
      "round 23: Outsiders MOUZ Outsiders MOUZ Outsiders Outsiders None \n",
      "round 24: Outsiders Outsiders Outsiders Outsiders Outsiders \n",
      "round 25: Outsiders Outsiders MOUZ MOUZ Outsiders MOUZ MOUZ MOUZ \n",
      "round 26: Outsiders MOUZ MOUZ MOUZ Outsiders Outsiders Outsiders MOUZ Outsiders \n"
     ]
    }
   ],
   "source": [
    "#voor elke ronde in de match als het moordwapen een glock is print aanvaller\n",
    "i = 0\n",
    "for k in out_mou_m1_anc['gameRounds']:\n",
    "    j = 0\n",
    "    print(f\"round {i+1}:\", end=\" \")\n",
    "    for k in out_mou_m1_anc['gameRounds'][i]['kills']:\n",
    "        print(out_mou_m1_anc['gameRounds'][i]['kills'][j]['attackerTeam'], end=\" \")\n",
    "        j += 1 \n",
    "        if(len(out_mou_m1_anc['gameRounds'][i]['kills']) == j):\n",
    "            print()\n",
    "    i += 1\n",
    "     "
   ]
  },
  {
   "cell_type": "code",
   "execution_count": 223,
   "metadata": {},
   "outputs": [
    {
     "data": {
      "image/png": "[encoded data removed]",
      "text/plain": [
       "<Figure size 640x480 with 1 Axes>"
      ]
     },
     "metadata": {},
     "output_type": "display_data"
    }
   ],
   "source": [
    "i = 0\n",
    "names = []\n",
    "mouz = []\n",
    "out = []\n",
    "i = 0\n",
    "for k in out_mou_m1_anc['gameRounds']:\n",
    "    mouz.append(0)\n",
    "    out.append(0)\n",
    "    j = 0\n",
    "    for k in out_mou_m1_anc['gameRounds'][i]['kills']:\n",
    "        if(out_mou_m1_anc['gameRounds'][i]['kills'][j]['attackerTeam']==\"MOUZ\"):\n",
    "            mouz[i] += 1              \n",
    "        else:\n",
    "            out[i] += 1            \n",
    "        j += 1 \n",
    "    names.append(i+1)\n",
    "    i += 1\n",
    "\n",
    "plt.bar(names, mouz, color =\"red\")\n",
    "plt.bar(names, out, bottom=mouz, color=\"slategrey\")\n",
    "plt.xlabel(\"Round\")\n",
    "plt.ylabel(\"Kills\")\n",
    "plt.legend([\"MOUZ\", \"Outsiders\"])\n",
    "plt.show()"
   ]
  },
  {
   "cell_type": "code",
   "execution_count": 96,
   "metadata": {},
   "outputs": [
    {
     "ename": "KeyError",
     "evalue": "0",
     "output_type": "error",
     "traceback": [
      "\u001b[1;31m---------------------------------------------------------------------------\u001b[0m",
      "\u001b[1;31mKeyError\u001b[0m                                  Traceback (most recent call last)",
      "Cell \u001b[1;32mIn[96], line 6\u001b[0m\n\u001b[0;32m      4\u001b[0m \u001b[39mfor\u001b[39;00m out_mou_m1_anc[\u001b[39m'\u001b[39m\u001b[39mgameRounds\u001b[39m\u001b[39m'\u001b[39m][i][\u001b[39m'\u001b[39m\u001b[39mkills\u001b[39m\u001b[39m'\u001b[39m] \u001b[39min\u001b[39;00m out_mou_m1_anc[\u001b[39m'\u001b[39m\u001b[39mgameRounds\u001b[39m\u001b[39m'\u001b[39m]:    \n\u001b[0;32m      5\u001b[0m     j \u001b[39m+\u001b[39m\u001b[39m=\u001b[39m \u001b[39m1\u001b[39m\n\u001b[1;32m----> 6\u001b[0m     \u001b[39mprint\u001b[39m(out_mou_m1_anc[\u001b[39m'\u001b[39;49m\u001b[39mgameRounds\u001b[39;49m\u001b[39m'\u001b[39;49m][i][\u001b[39m'\u001b[39;49m\u001b[39mkills\u001b[39;49m\u001b[39m'\u001b[39;49m][\u001b[39m0\u001b[39;49m])\n\u001b[0;32m      7\u001b[0m i \u001b[39m+\u001b[39m\u001b[39m=\u001b[39m \u001b[39m1\u001b[39m\n\u001b[0;32m      8\u001b[0m \u001b[39mprint\u001b[39m(j)\n",
      "\u001b[1;31mKeyError\u001b[0m: 0"
     ]
    }
   ],
   "source": [
    "#out_mou_m1_anc = DemoParser(demofile = r\"C:\\Users\\Wessel\\Documents\\DataScienceDemos\\outsiders-vs-mouz-m1-ancient.dem\", demo_id = \"out_mou_m1_anc\", parse_frames=128).parse()\n",
    "i = 0\n",
    "j = 0\n",
    "for out_mou_m1_anc['gameRounds'][i]['kills'] in out_mou_m1_anc['gameRounds']:    \n",
    "    j += 1\n",
    "    print(out_mou_m1_anc['gameRounds'][i]['kills'])\n",
    "i += 1\n",
    "print(j)"
   ]
  }
 ],
 "metadata": {
  "kernelspec": {
   "display_name": "Python 3",
   "language": "python",
   "name": "python3"
  },
  "language_info": {
   "codemirror_mode": {
    "name": "ipython",
    "version": 3
   },
   "file_extension": ".py",
   "mimetype": "text/x-python",
   "name": "python",
   "nbconvert_exporter": "python",
   "pygments_lexer": "ipython3",
   "version": "3.11.2"
  },
  "orig_nbformat": 4,
  "vscode": {
   "interpreter": {
    "hash": "d372196eed7aa65daaa68cadd319053e7daefed79bca0d5d191b99a746b96a8d"
   }
  }
 },
 "nbformat": 4,
 "nbformat_minor": 2
}
