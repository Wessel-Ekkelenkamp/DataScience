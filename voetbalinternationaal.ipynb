{
 "cells": [
  {
   "cell_type": "code",
   "execution_count": 47,
   "metadata": {},
   "outputs": [
    {
     "name": "stdout",
     "output_type": "stream",
     "text": [
      "  ﻿competition_id season CompetitionRound   MatchDay HomeTeamGoals  \\\n",
      "0              L1   2012               34 2013-05-18             1   \n",
      "1              L1   2012               34 2013-05-18             3   \n",
      "2              L1   2012               34 2013-05-18             0   \n",
      "3              L1   2012               34 2013-05-18             1   \n",
      "4              L1   2012               34 2013-05-18             2   \n",
      "\n",
      "  AwayTeamGoals aggregate HomeTeamPosition AwayTeamPosition  \\\n",
      "0             2  01:02:00                2               16   \n",
      "1             0  03:00:00                9               17   \n",
      "2             1  00:01:00                7                3   \n",
      "3             2  01:02:00                5                4   \n",
      "4             2  02:02:00               12               13   \n",
      "\n",
      "            HomeTeam             AwayTeam  \n",
      "0  Borussia Dortmund  Tsg 1899 Hoffenheim  \n",
      "1        Hannover 96   Fortuna Dusseldorf  \n",
      "2       Hamburger Sv  Bayer 04 Leverkusen  \n",
      "3        Sc Freiburg        Fc Schalke 04  \n",
      "4      Vfb Stuttgart       1 Fsv Mainz 05  \n"
     ]
    },
    {
     "name": "stderr",
     "output_type": "stream",
     "text": [
      "C:\\Users\\wesse\\AppData\\Local\\Temp\\ipykernel_11604\\66368647.py:7: UserWarning: Parsing dates in DD/MM/YYYY format when dayfirst=False (the default) was specified. This may lead to inconsistently parsed dates! Specify a format to ensure consistent parsing.\n",
      "  df = pd.read_sql_query(\"SELECT * From Les2_Internationaal_Archief\", connect, parse_dates=['MatchDay'])\n"
     ]
    }
   ],
   "source": [
    "import pandas as pd\n",
    "import sqlite3\n",
    "format_string = \"%d%m%Y\"\n",
    "intcol = {'season', 'CompetitionRound', 'HomeTeamGoals', 'AwayTeamGoals'}\n",
    "connect = sqlite3.connect(\"database - Copy.sqlite\")\n",
    "data = pd.read_csv(\"Les2_Internationaal_Recent - Copy.csv\")\n",
    "df = pd.read_sql_query(\"SELECT * From Les2_Internationaal_Archief\", connect, parse_dates=['MatchDay'])\n",
    "df['MatchDay'] = pd.to_datetime(df['MatchDay'],\n",
    "format = format_string)\n",
    "\n",
    "df['Matchday_dup'] = df.loc[:, 'MatchDay']\n",
    "\n",
    "df['Matchday_dup'] = df['Matchday_dup'].replace(['2013-05-18 '], '9999-99-99 ')\n",
    "\n",
    "#print(df.iloc[:, 5])\n",
    "\n",
    "#print(df.iloc[[99]])\n",
    "\n",
    "df = df.rename(columns={'Matchday_dup' : 'Matchday_dup2'})\n",
    "\n",
    "df.pop('Matchday_dup2')\n",
    "\n",
    "print(df.head())\n",
    "\n",
    "\n"
   ]
  },
  {
   "cell_type": "markdown",
   "metadata": {},
   "source": []
  }
 ],
 "metadata": {
  "kernelspec": {
   "display_name": "Python 3",
   "language": "python",
   "name": "python3"
  },
  "language_info": {
   "codemirror_mode": {
    "name": "ipython",
    "version": 3
   },
   "file_extension": ".py",
   "mimetype": "text/x-python",
   "name": "python",
   "nbconvert_exporter": "python",
   "pygments_lexer": "ipython3",
   "version": "3.10.9"
  },
  "orig_nbformat": 4,
  "vscode": {
   "interpreter": {
    "hash": "88b5ef0fdb46268a269d81f1d9cb9a52e4485a80f028863c73c9ced763a27ca2"
   }
  }
 },
 "nbformat": 4,
 "nbformat_minor": 2
}
