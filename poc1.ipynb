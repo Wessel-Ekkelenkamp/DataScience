{
 "cells": [
  {
   "attachments": {},
   "cell_type": "markdown",
   "metadata": {},
   "source": [
    "business understanding\n"
   ]
  },
  {
   "cell_type": "markdown",
   "metadata": {},
   "source": []
  }
 ],
 "metadata": {
  "kernelspec": {
   "display_name": "Python 3",
   "language": "python",
   "name": "python3"
  },
  "language_info": {
   "name": "python",
   "version": "3.10.10"
  },
  "orig_nbformat": 4,
  "vscode": {
   "interpreter": {
    "hash": "88b5ef0fdb46268a269d81f1d9cb9a52e4485a80f028863c73c9ced763a27ca2"
   }
  }
 },
 "nbformat": 4,
 "nbformat_minor": 2
}
