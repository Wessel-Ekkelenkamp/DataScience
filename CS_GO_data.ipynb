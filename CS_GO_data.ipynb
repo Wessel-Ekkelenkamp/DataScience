{
 "cells": [
  {
   "cell_type": "code",
   "execution_count": 2,
   "metadata": {},
   "outputs": [],
   "source": [
    "import pandas as pd\n",
    "import numpy as np\n",
    "import awpy as Demoparser\n",
    "import matplotlib.pyplot as plt\n",
    "import json\n",
    "import os\n",
    "import scipy.stats as st\n",
    "import seaborn as sns\n",
    "import math"
   ]
  },
  {
   "cell_type": "code",
   "execution_count": 3,
   "metadata": {},
   "outputs": [],
   "source": [
    "games = []\n",
    "for jsn in os.listdir(\"C:/Users/Wessel/Documents/DataScienceDemos/JSON\"):\n",
    "    game = json.load(open(\"C:/Users/Wessel/Documents\\DataScienceDemos/JSON/{}\".format(jsn)))\n",
    "    games.append(game)   "
   ]
  },
  {
   "cell_type": "code",
   "execution_count": 4,
   "metadata": {},
   "outputs": [
    {
     "name": "stdout",
     "output_type": "stream",
     "text": [
      "['de_mirage', 'de_inferno', 'de_overpass', 'de_ancient', 'de_nuke', 'de_vertigo']\n"
     ]
    }
   ],
   "source": [
    "#generate list of unique maps in pool\n",
    "maps = []\n",
    "for game in games:\n",
    "    if game['mapName'] not in maps:\n",
    "        maps.append(game['mapName'])\n",
    "print(maps)"
   ]
  },
  {
   "cell_type": "code",
   "execution_count": 122,
   "metadata": {},
   "outputs": [],
   "source": [
    "#init dict's of maps\n",
    "map_dict_mouz = {}\n",
    "map_dict_enemy = {}\n",
    "avg_kills_mouz = {}\n",
    "avg_kills_enemy = {}\n",
    "stdef_map_dict_mouz = {}\n",
    "stdef_map_dict_enemy = {}\n",
    "conf_rate_kills = {}\n",
    "win_dict = {}\n",
    "loss_dict = {}\n",
    "i=0\n",
    "for k in maps:\n",
    "    map_dict_mouz[maps[i]] = []\n",
    "    map_dict_enemy[maps[i]] = []\n",
    "    avg_kills_mouz[maps[i]] = []\n",
    "    avg_kills_enemy[maps[i]] = []\n",
    "    stdef_map_dict_mouz[maps[i]] = []\n",
    "    stdef_map_dict_enemy[maps[i]] = []\n",
    "    conf_rate_kills[maps[i]] = []\n",
    "    win_dict[maps[i]] = 0\n",
    "    loss_dict[maps[i]] = 0\n",
    "    i += 1"
   ]
  },
  {
   "cell_type": "code",
   "execution_count": 123,
   "metadata": {},
   "outputs": [],
   "source": [
    "#fill dict's wits mous kills per round\n",
    "for game in games:\n",
    "    i = 0\n",
    "    for gameround in game['gameRounds']:\n",
    "        number_of_kills = 0\n",
    "        j = 0\n",
    "        for kill in gameround['kills']:\n",
    "            if kill['attackerTeam'] == \"MOUZ\":\n",
    "                number_of_kills += 1\n",
    "            j += 1  \n",
    "        map_dict_mouz[game['mapName']].append(number_of_kills) \n",
    "        i += 1\n",
    "\n",
    "#fill dict's with enemy klls per round\n",
    "for game in games:\n",
    "    i = 0\n",
    "    for gameround in game['gameRounds']:\n",
    "        number_of_kills = 0\n",
    "        j = 0\n",
    "        for kill in gameround['kills']:\n",
    "            if kill['attackerTeam'] != \"MOUZ\":\n",
    "                number_of_kills += 1\n",
    "            j += 1  \n",
    "        map_dict_enemy[game['mapName']].append(number_of_kills) \n",
    "        i += 1"
   ]
  },
  {
   "cell_type": "code",
   "execution_count": 124,
   "metadata": {},
   "outputs": [
    {
     "name": "stdout",
     "output_type": "stream",
     "text": [
      "{'de_mirage': 3.1454545454545455, 'de_inferno': 2.9432624113475176, 'de_overpass': 3.023529411764706, 'de_ancient': 3.4536082474226806, 'de_nuke': 2.9583333333333335, 'de_vertigo': 3.75}\n",
      "{'de_mirage': 3.118181818181818, 'de_inferno': 3.120567375886525, 'de_overpass': 3.364705882352941, 'de_ancient': 3.0, 'de_nuke': 3.5833333333333335, 'de_vertigo': 3.125}\n"
     ]
    }
   ],
   "source": [
    "i=0\n",
    "for mp in map_dict_mouz:\n",
    "    avg_kills_mouz[maps[i]] = (sum(map_dict_mouz[mp])/len(map_dict_mouz[mp]))\n",
    "    i += 1\n",
    "i=0\n",
    "for mp in map_dict_enemy:\n",
    "    avg_kills_enemy[maps[i]] = (sum(map_dict_enemy[mp])/len(map_dict_enemy[mp]))\n",
    "    i += 1\n",
    "\n",
    "print(avg_kills_mouz)\n",
    "print(avg_kills_enemy)"
   ]
  },
  {
   "attachments": {},
   "cell_type": "markdown",
   "metadata": {},
   "source": [
    "https://www.bmj.com/about-bmj/resources-readers/publications/statistics-square-one/5-differences-between-means-type-i-an\n",
    "\n",
    "$ SE(diff) = \\sqrt{ \\frac {SD_1^2}{n_1} + \\frac {SD_2^2}{n_2}} $\n"
   ]
  },
  {
   "cell_type": "code",
   "execution_count": 125,
   "metadata": {},
   "outputs": [
    {
     "name": "stdout",
     "output_type": "stream",
     "text": [
      "{'de_mirage': [3.118181818181818, 1.6827024702263274, 110], 'de_inferno': [3.120567375886525, 1.694694170216819, 141], 'de_overpass': [3.364705882352941, 1.5556126753944088, 85], 'de_ancient': [3.0, 1.7468675942247531, 97], 'de_nuke': [3.5833333333333335, 1.1873172373979175, 24], 'de_vertigo': [3.125, 1.5360257159305635, 24]}\n",
      "{'de_mirage': [3.1454545454545455, 1.7468744224854529, 110], 'de_inferno': [2.9432624113475176, 1.6706606738559011, 141], 'de_overpass': [3.023529411764706, 1.6941176470588237, 85], 'de_ancient': [3.4536082474226806, 1.686945745903733, 97], 'de_nuke': [2.9583333333333335, 1.8366447367111824, 24], 'de_vertigo': [3.75, 1.7380544678845176, 24]}\n"
     ]
    }
   ],
   "source": [
    "#get SD and n\n",
    "i = 0\n",
    "for k in map_dict_mouz:\n",
    "    stdef_map_dict_mouz[maps[i]].append(np.mean(map_dict_mouz[maps[i]]))\n",
    "    stdef_map_dict_mouz[maps[i]].append(np.std(map_dict_mouz[maps[i]]))\n",
    "    stdef_map_dict_mouz[maps[i]].append(len(map_dict_mouz[maps[i]]))\n",
    "    stdef_map_dict_enemy[maps[i]].append(np.mean(map_dict_enemy[maps[i]]))\n",
    "    stdef_map_dict_enemy[maps[i]].append(np.std(map_dict_enemy[maps[i]]))\n",
    "    stdef_map_dict_enemy[maps[i]].append(len(map_dict_enemy[maps[i]]))\n",
    "    i+=1\n",
    "\n",
    "print(stdef_map_dict_enemy)\n",
    "print(stdef_map_dict_mouz)\n"
   ]
  },
  {
   "cell_type": "code",
   "execution_count": 126,
   "metadata": {},
   "outputs": [
    {
     "data": {
      "text/plain": [
       "{'de_mirage': [0.23126250042360696,\n",
       "  0.027272727272727337,\n",
       "  -0.4260017735575423,\n",
       "  0.480547228102997],\n",
       " 'de_inferno': [0.2004090748666448,\n",
       "  -0.17730496453900724,\n",
       "  -0.570106751277631,\n",
       "  0.21549682219961658],\n",
       " 'de_overpass': [0.24946921059401006,\n",
       "  -0.3411764705882354,\n",
       "  -0.8301361233524951,\n",
       "  0.14778318217602432],\n",
       " 'de_ancient': [0.24657096469928252,\n",
       "  0.4536082474226806,\n",
       "  -0.02967084338791315,\n",
       "  0.9368873382332743],\n",
       " 'de_nuke': [0.4464203041562547,\n",
       "  -0.625,\n",
       "  -1.4999837961462592,\n",
       "  0.2499837961462592],\n",
       " 'de_vertigo': [0.47347159072347966,\n",
       "  0.625,\n",
       "  -0.3030043178180202,\n",
       "  1.5530043178180202]}"
      ]
     },
     "execution_count": 126,
     "metadata": {},
     "output_type": "execute_result"
    }
   ],
   "source": [
    "#get SE(diff)\n",
    "i = 0\n",
    "for k in stdef_map_dict_mouz:\n",
    "    conf_rate_kills[maps[i]].append(math.sqrt((pow(stdef_map_dict_mouz.get(maps[i])[1], 2)/ stdef_map_dict_mouz.get(maps[i])[2]) + (pow(stdef_map_dict_enemy.get(maps[i])[1], 2)/ stdef_map_dict_enemy.get(maps[i])[2])))\n",
    "    conf_rate_kills[maps[i]].append(stdef_map_dict_mouz.get(maps[i])[0]-stdef_map_dict_enemy.get(maps[i])[0])\n",
    "    conf_rate_kills[maps[i]].append(conf_rate_kills.get(maps[i])[1]-1.96*conf_rate_kills.get(maps[i])[0])\n",
    "    conf_rate_kills[maps[i]].append(conf_rate_kills.get(maps[i])[1]+1.96*conf_rate_kills.get(maps[i])[0])\n",
    "    i += 1\n",
    "conf_rate_kills"
   ]
  },
  {
   "cell_type": "code",
   "execution_count": 139,
   "metadata": {},
   "outputs": [
    {
     "name": "stdout",
     "output_type": "stream",
     "text": [
      "[0.480547228102997, 0.21549682219961658, 0.14778318217602432, 0.9368873382332743, 0.2499837961462592, 1.5530043178180202]\n",
      "[-0.4260017735575423, -0.570106751277631, -0.8301361233524951, -0.02967084338791315, -1.4999837961462592, -0.3030043178180202]\n"
     ]
    }
   ],
   "source": [
    "i = 0\n",
    "conf_low = []\n",
    "conf_high = []\n",
    "for k in conf_rate_kills:\n",
    "    conf_high.append(conf_rate_kills[maps[i]][3])\n",
    "    conf_low.append(conf_rate_kills[maps[i]][2])\n",
    "    i += 1\n",
    "print(conf_high)\n",
    "print(conf_low)"
   ]
  },
  {
   "cell_type": "code",
   "execution_count": 159,
   "metadata": {},
   "outputs": [
    {
     "data": {
      "text/plain": [
       "[<matplotlib.lines.Line2D at 0x1e5aee455d0>]"
      ]
     },
     "execution_count": 159,
     "metadata": {},
     "output_type": "execute_result"
    },
    {
     "data": {
      "image/png": "[encoded data removed]",
      "text/plain": [
       "<Figure size 640x480 with 1 Axes>"
      ]
     },
     "metadata": {},
     "output_type": "display_data"
    }
   ],
   "source": [
    "kill_dif = {}\n",
    "i = 0\n",
    "for k in avg_kills_mouz:\n",
    "    kill_dif[maps[i]] = avg_kills_mouz[k]-avg_kills_enemy[k]\n",
    "    i += 1\n",
    "\n",
    "kill_dif = dict(sorted(kill_dif.items(), key=lambda x:x[1], reverse=True))\n",
    "\n",
    "keys = list(kill_dif.keys())\n",
    "values = list(kill_dif.values())\n",
    "ax = sns.barplot(x=keys, y=values, palette=\"blend:#7AB,#EDA\")\n",
    "ax.set(xlabel='Map Name', ylabel='Kill difference', title='Kill difference per map')\n",
    "ax\n",
    "plt.plot([0, 0], [1.55, -0.3], color='grey')\n",
    "plt.plot([1, 1], [0.94, -0.03], color='grey')\n",
    "plt.plot([2, 2], [0.48, -0.43], color='grey')\n",
    "plt.plot([3, 3], [0.21, -0.57], color='grey')\n",
    "plt.plot([4, 4], [0.15, -0.83], color='grey')\n",
    "plt.plot([5, 5], [0.25, -1.5], color='grey')"
   ]
  },
  {
   "cell_type": "code",
   "execution_count": 36,
   "metadata": {},
   "outputs": [
    {
     "name": "stdout",
     "output_type": "stream",
     "text": [
      "{'de_mirage': 58, 'de_inferno': 69, 'de_overpass': 42, 'de_ancient': 58, 'de_nuke': 8, 'de_vertigo': 16}\n",
      "{'de_mirage': 52, 'de_inferno': 72, 'de_overpass': 43, 'de_ancient': 39, 'de_nuke': 16, 'de_vertigo': 8}\n"
     ]
    }
   ],
   "source": [
    "#fill dict's wits mouz wins per map\n",
    "for game in games:\n",
    "    i = 0\n",
    "    for gameround in game['gameRounds']:         \n",
    "        if(gameround['winningTeam'] == \"MOUZ\"):\n",
    "            win_dict[game['mapName']] += 1\n",
    "        else:\n",
    "            loss_dict[game['mapName']] += 1\n",
    "        i += 1\n",
    "print(win_dict)\n",
    "print(loss_dict)"
   ]
  },
  {
   "cell_type": "code",
   "execution_count": null,
   "metadata": {},
   "outputs": [],
   "source": [
    "#error bar calculations\n"
   ]
  },
  {
   "cell_type": "code",
   "execution_count": 11,
   "metadata": {},
   "outputs": [
    {
     "data": {
      "text/plain": [
       "<Axes: >"
      ]
     },
     "execution_count": 11,
     "metadata": {},
     "output_type": "execute_result"
    },
    {
     "data": {
      "image/png": "[encoded data removed]",
      "text/plain": [
       "<Figure size 640x480 with 1 Axes>"
      ]
     },
     "metadata": {},
     "output_type": "display_data"
    }
   ],
   "source": [
    "win_dif = {}\n",
    "i = 0\n",
    "for k in win_dict:\n",
    "    win_dif[maps[i]] = win_dict[k]-loss_dict[k]\n",
    "    i += 1\n",
    "\n",
    "win_dif = dict(sorted(win_dif.items(), key=lambda x:x[1], reverse=True))\n",
    "\n",
    "keys = list(win_dif.keys())\n",
    "values = list(win_dif.values())\n",
    "sns.barplot(x=keys, y=values, palette=\"blend:#7AB,#EDA\")"
   ]
  }
 ],
 "metadata": {
  "kernelspec": {
   "display_name": "Python 3",
   "language": "python",
   "name": "python3"
  },
  "language_info": {
   "codemirror_mode": {
    "name": "ipython",
    "version": 3
   },
   "file_extension": ".py",
   "mimetype": "text/x-python",
   "name": "python",
   "nbconvert_exporter": "python",
   "pygments_lexer": "ipython3",
   "version": "3.11.2"
  },
  "orig_nbformat": 4
 },
 "nbformat": 4,
 "nbformat_minor": 2
}
