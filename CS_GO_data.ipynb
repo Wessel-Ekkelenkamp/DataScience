{
 "cells": [
  {
   "cell_type": "code",
   "execution_count": 186,
   "metadata": {},
   "outputs": [],
   "source": [
    "import pandas as pd\n",
    "import numpy as np\n",
    "import awpy as Demoparser\n",
    "import matplotlib.pyplot as plt\n",
    "import json\n",
    "import os\n",
    "import scipy.stats as st\n",
    "import seaborn as sns\n",
    "import math"
   ]
  },
  {
   "cell_type": "code",
   "execution_count": 35,
   "metadata": {},
   "outputs": [],
   "source": [
    "games = []\n",
    "for jsn in os.listdir(\"C:/Users/Wessel/Documents/DataScienceDemos/JSON\"):\n",
    "    game = json.load(open(\"C:/Users/Wessel/Documents\\DataScienceDemos/JSON/{}\".format(jsn)))\n",
    "    games.append(game)   "
   ]
  },
  {
   "cell_type": "code",
   "execution_count": 56,
   "metadata": {},
   "outputs": [
    {
     "name": "stdout",
     "output_type": "stream",
     "text": [
      "['de_mirage', 'de_inferno', 'de_overpass', 'de_ancient', 'de_nuke', 'de_vertigo']\n"
     ]
    }
   ],
   "source": [
    "#generate list of unique maps in pool\n",
    "maps = []\n",
    "for game in games:\n",
    "    if game['mapName'] not in maps:\n",
    "        maps.append(game['mapName'])\n",
    "print(maps)"
   ]
  },
  {
   "cell_type": "code",
   "execution_count": 383,
   "metadata": {},
   "outputs": [],
   "source": [
    "#init dict's of maps\n",
    "map_dict_mouz = {}\n",
    "map_dict_enemy = {}\n",
    "avg_kills_mouz = {}\n",
    "avg_kills_enemy = {}\n",
    "win_dict = {}\n",
    "loss_dict = {}\n",
    "i=0\n",
    "for k in maps:\n",
    "    map_dict_mouz[maps[i]] = []\n",
    "    map_dict_enemy[maps[i]] = []\n",
    "    avg_kills_mouz[maps[i]] = []\n",
    "    avg_kills_enemy[maps[i]] = []\n",
    "    win_dict[maps[i]] = 0\n",
    "    loss_dict[maps[i]] = 0\n",
    "    i += 1"
   ]
  },
  {
   "cell_type": "code",
   "execution_count": 384,
   "metadata": {},
   "outputs": [],
   "source": [
    "#fill dict's wits mous kills per round\n",
    "for game in games:\n",
    "    i = 0\n",
    "    for gameround in game['gameRounds']:\n",
    "        number_of_kills = 0\n",
    "        j = 0\n",
    "        for kill in gameround['kills']:\n",
    "            if kill['attackerTeam'] == \"MOUZ\":\n",
    "                number_of_kills += 1\n",
    "            j += 1  \n",
    "        map_dict_mouz[game['mapName']].append(number_of_kills) \n",
    "        i += 1\n",
    "\n",
    "#fill dict's with enemy klls per round\n",
    "for game in games:\n",
    "    i = 0\n",
    "    for gameround in game['gameRounds']:\n",
    "        number_of_kills = 0\n",
    "        j = 0\n",
    "        for kill in gameround['kills']:\n",
    "            if kill['attackerTeam'] != \"MOUZ\":\n",
    "                number_of_kills += 1\n",
    "            j += 1  \n",
    "        map_dict_enemy[game['mapName']].append(number_of_kills) \n",
    "        i += 1"
   ]
  },
  {
   "cell_type": "code",
   "execution_count": 248,
   "metadata": {},
   "outputs": [
    {
     "data": {
      "text/plain": [
       "{'de_mirage': 1,\n",
       " 'de_inferno': 1,\n",
       " 'de_overpass': 1,\n",
       " 'de_ancient': 1,\n",
       " 'de_nuke': 2,\n",
       " 'de_vertigo': 2}"
      ]
     },
     "execution_count": 248,
     "metadata": {},
     "output_type": "execute_result"
    }
   ],
   "source": [
    "#calculate bin for histplot\n",
    "bin_dict = {}\n",
    "i=0\n",
    "for k in maps:\n",
    "    bin_dict[maps[i]] = 0\n",
    "    i += 1\n",
    "for mp in map_dict_mouz:\n",
    "    q3, q1 = np.percentile(map_dict_mouz.get(mp), [75 ,25])\n",
    "    iqr = q3 - q1\n",
    "    n = len(map_dict_mouz.get(mp))\n",
    "    bin_width = (2*iqr)/pow(n, 1/3)\n",
    "    bin_dict[mp] += int(bin_width)\n",
    "\n",
    "bin_dict"
   ]
  },
  {
   "cell_type": "code",
   "execution_count": 385,
   "metadata": {},
   "outputs": [
    {
     "name": "stdout",
     "output_type": "stream",
     "text": [
      "{'de_mirage': 3.1454545454545455, 'de_inferno': 2.9432624113475176, 'de_overpass': 3.023529411764706, 'de_ancient': 3.4536082474226806, 'de_nuke': 2.9583333333333335, 'de_vertigo': 3.75}\n",
      "{'de_mirage': 3.118181818181818, 'de_inferno': 3.120567375886525, 'de_overpass': 3.364705882352941, 'de_ancient': 3.0, 'de_nuke': 3.5833333333333335, 'de_vertigo': 3.125}\n"
     ]
    }
   ],
   "source": [
    "i=0\n",
    "for mp in map_dict_mouz:\n",
    "    avg_kills_mouz[maps[i]] = (sum(map_dict_mouz[mp])/len(map_dict_mouz[mp]))\n",
    "    i += 1\n",
    "i=0\n",
    "for mp in map_dict_enemy:\n",
    "    avg_kills_enemy[maps[i]] = (sum(map_dict_enemy[mp])/len(map_dict_enemy[mp]))\n",
    "    i += 1\n",
    "\n",
    "print(avg_kills_mouz)\n",
    "print(avg_kills_enemy)"
   ]
  },
  {
   "cell_type": "code",
   "execution_count": 380,
   "metadata": {},
   "outputs": [
    {
     "data": {
      "text/plain": [
       "<Axes: >"
      ]
     },
     "execution_count": 380,
     "metadata": {},
     "output_type": "execute_result"
    },
    {
     "data": {
      "image/png": "[encoded data removed]",
      "text/plain": [
       "<Figure size 640x480 with 1 Axes>"
      ]
     },
     "metadata": {},
     "output_type": "display_data"
    }
   ],
   "source": [
    "kill_dif = {}\n",
    "i = 0\n",
    "for k in avg_kills_mouz:\n",
    "    kill_dif[maps[i]] = avg_kills_mouz[k]-avg_kills_enemy[k]\n",
    "    i += 1\n",
    "\n",
    "kill_dif = dict(sorted(kill_dif.items(), key=lambda x:x[1], reverse=True))\n",
    "\n",
    "keys = list(kill_dif.keys())\n",
    "values = list(kill_dif.values())\n",
    "sns.barplot(x=keys, y=values, palette=\"blend:#7AB,#EDA\")\n"
   ]
  },
  {
   "cell_type": "code",
   "execution_count": 386,
   "metadata": {},
   "outputs": [
    {
     "name": "stdout",
     "output_type": "stream",
     "text": [
      "{'de_mirage': 58, 'de_inferno': 69, 'de_overpass': 42, 'de_ancient': 58, 'de_nuke': 8, 'de_vertigo': 16}\n",
      "{'de_mirage': 52, 'de_inferno': 72, 'de_overpass': 43, 'de_ancient': 39, 'de_nuke': 16, 'de_vertigo': 8}\n"
     ]
    }
   ],
   "source": [
    "#fill dict's wits mous kills per round\n",
    "for game in games:\n",
    "    i = 0\n",
    "    for gameround in game['gameRounds']:         \n",
    "        if(gameround['winningTeam'] == \"MOUZ\"):\n",
    "            win_dict[game['mapName']] += 1\n",
    "        else:\n",
    "            loss_dict[game['mapName']] += 1\n",
    "        i += 1\n",
    "print(win_dict)\n",
    "print(loss_dict)"
   ]
  },
  {
   "cell_type": "code",
   "execution_count": 387,
   "metadata": {},
   "outputs": [
    {
     "data": {
      "text/plain": [
       "<Axes: >"
      ]
     },
     "execution_count": 387,
     "metadata": {},
     "output_type": "execute_result"
    },
    {
     "data": {
      "image/png": "[encoded data removed]",
      "text/plain": [
       "<Figure size 640x480 with 1 Axes>"
      ]
     },
     "metadata": {},
     "output_type": "display_data"
    }
   ],
   "source": [
    "win_dif = {}\n",
    "i = 0\n",
    "for k in win_dict:\n",
    "    win_dif[maps[i]] = win_dict[k]-loss_dict[k]\n",
    "    i += 1\n",
    "\n",
    "win_dif = dict(sorted(win_dif.items(), key=lambda x:x[1], reverse=True))\n",
    "\n",
    "keys = list(win_dif.keys())\n",
    "values = list(win_dif.values())\n",
    "sns.barplot(x=keys, y=values, palette=\"blend:#7AB,#EDA\")"
   ]
  }
 ],
 "metadata": {
  "kernelspec": {
   "display_name": "Python 3",
   "language": "python",
   "name": "python3"
  },
  "language_info": {
   "codemirror_mode": {
    "name": "ipython",
    "version": 3
   },
   "file_extension": ".py",
   "mimetype": "text/x-python",
   "name": "python",
   "nbconvert_exporter": "python",
   "pygments_lexer": "ipython3",
   "version": "3.11.2"
  },
  "orig_nbformat": 4
 },
 "nbformat": 4,
 "nbformat_minor": 2
}
